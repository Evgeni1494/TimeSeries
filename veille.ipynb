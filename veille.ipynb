{
 "cells": [
  {
   "attachments": {},
   "cell_type": "markdown",
   "metadata": {},
   "source": [
    "## Sources\n",
    "    - https://machinelearningmastery.com/sarima-for-time-series-forecasting-in-python/  (ARIMA, SARIMA)\n",
    "\n",
    "    - https://neptune.ai/blog/arima-vs-prophet-vs-lstm (Compare ARIMA LSTM PROPHET)\n",
    "    \n",
    "    - https://machinelearningmastery.com/time-series-forecasting-with-prophet-in-python/ (Prophet info/guide)\n",
    "    - https://facebook.github.io/prophet/docs/installation.html (Prophet doc)\n",
    "    - https://www.artefact.com/blog/is-facebook-prophet-suited-for-doing-good-predictions-in-a-real-world-project/ (Prophet eval article)\n",
    "\n",
    "    - https://machinelearningmastery.com/xgboost-for-time-series-forecasting/ (XGboost info/guide)\n",
    "    "
   ]
  },
  {
   "attachments": {},
   "cell_type": "markdown",
   "metadata": {},
   "source": [
    "## ARIMA\n",
    "\n",
    "- Auto Regressive Integrated Moving Average"
   ]
  },
  {
   "attachments": {},
   "cell_type": "markdown",
   "metadata": {},
   "source": []
  },
  {
   "attachments": {},
   "cell_type": "markdown",
   "metadata": {},
   "source": [
    "- Explique une serie temporelle basé sur ses valeurs passés.\n",
    "- Ses lags (retards) et les erreurs de prévision passées sont utilisés pour prédire les valeurs futurs.\n",
    "\n",
    "\n",
    "- ARIMA est un modèle statistique qui tente de comprendre et de prédire les tendances et les schémas dans une série temporelle en utilisant des informations de sa propre histoire.\n",
    "\n",
    "- ARIMA est une regression linéaire.\n",
    "\n",
    "- ne peut inclure de variables exogenes."
   ]
  },
  {
   "attachments": {},
   "cell_type": "markdown",
   "metadata": {},
   "source": [
    "#### Use-Case"
   ]
  },
  {
   "attachments": {},
   "cell_type": "markdown",
   "metadata": {},
   "source": [
    "- Toute time series qui n'a pas de saisonalité et qui n'est pas un \"bruit blanc\" (white noise) peut etre modélisé en utilisant ARIMA.\n",
    "\n",
    "- Il faut avoir enlevé la saisonalité au préalable car le model ne sait pas la gerré."
   ]
  },
  {
   "attachments": {},
   "cell_type": "markdown",
   "metadata": {},
   "source": [
    "#### Parametres\n",
    "    - ARIMA est caractérisé par 3 parametres: p, d, q"
   ]
  },
  {
   "attachments": {},
   "cell_type": "markdown",
   "metadata": {},
   "source": [
    "##### p est l'ordre de AR (Auto Regressive)\n",
    "    - indique combien de valeurs passées de Y (lags) sont prises en compte pour expliquer les variations futures de Y."
   ]
  },
  {
   "attachments": {},
   "cell_type": "markdown",
   "metadata": {},
   "source": [
    "##### q est l'ordre de MA (Moving Average)\n",
    "    - indique combien de retards des erreurs (lagged forecast errors) de prévision passées sont utilisés pour ajuster les prévisions futures de Y."
   ]
  },
  {
   "attachments": {},
   "cell_type": "markdown",
   "metadata": {},
   "source": [
    "##### d est le nombre de differenciation requis pour rendre une time series stationnaire.\n",
    "    - si la time series est déja stationaire alors d = 0"
   ]
  },
  {
   "attachments": {},
   "cell_type": "markdown",
   "metadata": {},
   "source": [
    "## SARIMA"
   ]
  },
  {
   "attachments": {},
   "cell_type": "markdown",
   "metadata": {},
   "source": [
    "- Seasonal Auto Regressive Integrated Moving Average\n",
    "- Possede des hyperparametres pour la tendance(p,d,q) et la saisonalité (P,D,Q,m)\n",
    "- ne peut pas inclure des variables exogenes"
   ]
  },
  {
   "attachments": {},
   "cell_type": "markdown",
   "metadata": {},
   "source": [
    "### HyperParametres"
   ]
  },
  {
   "attachments": {},
   "cell_type": "markdown",
   "metadata": {},
   "source": [
    "#### p (tendance)\n",
    "    - l'ordre AR de la tendance"
   ]
  },
  {
   "attachments": {},
   "cell_type": "markdown",
   "metadata": {},
   "source": [
    "#### q (tendance)\n",
    "    - l'ordre de MA de la tendance"
   ]
  },
  {
   "attachments": {},
   "cell_type": "markdown",
   "metadata": {},
   "source": [
    "#### d (tendance)\n",
    "    - l'ordre de differnciation de la tendance"
   ]
  },
  {
   "attachments": {},
   "cell_type": "markdown",
   "metadata": {},
   "source": [
    "#### P (Saisonalité)\n",
    "    - l'ordre de AR de la saisonalité"
   ]
  },
  {
   "attachments": {},
   "cell_type": "markdown",
   "metadata": {},
   "source": [
    "#### Q (Saisonalité)\n",
    "    - l'ordre de MA de la saisonalité"
   ]
  },
  {
   "attachments": {},
   "cell_type": "markdown",
   "metadata": {},
   "source": [
    "#### D (Saisonalité)\n",
    "    - l'ordre de differenciation de la saisonalité"
   ]
  },
  {
   "attachments": {},
   "cell_type": "markdown",
   "metadata": {},
   "source": [
    "#### m (saisonalité)\n",
    "    - le nombre d'unité de temps pour une saison (Time Steps)"
   ]
  },
  {
   "attachments": {},
   "cell_type": "markdown",
   "metadata": {},
   "source": [
    "## Prophet"
   ]
  },
  {
   "attachments": {},
   "cell_type": "markdown",
   "metadata": {},
   "source": [
    "- modele adapté aux time series additifs.\n",
    "- peut prendre en charge tout type de tendances.\n",
    "- il est plus performant quand la time series a un effet saisonier prononcé avec plusieurs saisons de données historiques.\n",
    "- gerre bien les données manquants, les changements de tendance et les valeurs extreme.\n",
    "- OpenSource conçu pour les time series univariés.\n",
    "- 3 composantes principales : saisonalité, tendances et vacances/jours féries.\n",
    "- relativement simple d'utilisation et fiable.\n",
    "- peut inclure les variables exogenes"
   ]
  },
  {
   "attachments": {},
   "cell_type": "markdown",
   "metadata": {},
   "source": [
    "## XG Boost"
   ]
  },
  {
   "attachments": {},
   "cell_type": "markdown",
   "metadata": {},
   "source": [
    "- modele peut étre adapté a tout type de time series.\n",
    "- complexe dans son utilisation, une experience avec le ML est requise pour le parametrage du modele.\n",
    "- le probleme doit doit étre de type apprentisage supervisé.\n",
    "- la timse series doit étre mis sous forme qui a la target et les variables explicatives dans les colonnes.\n",
    "- peut inclure les variables exogenes."
   ]
  },
  {
   "attachments": {},
   "cell_type": "markdown",
   "metadata": {},
   "source": [
    "## Eval des models.\n"
   ]
  },
  {
   "cell_type": "markdown",
   "metadata": {},
   "source": []
  }
 ],
 "metadata": {
  "kernelspec": {
   "display_name": "Python 3",
   "language": "python",
   "name": "python3"
  },
  "language_info": {
   "name": "python",
   "version": "3.10.12 (main, Jun 11 2023, 05:26:28) [GCC 11.4.0]"
  },
  "orig_nbformat": 4,
  "vscode": {
   "interpreter": {
    "hash": "916dbcbb3f70747c44a77c7bcd40155683ae19c65e1c03b4aa3499c5328201f1"
   }
  }
 },
 "nbformat": 4,
 "nbformat_minor": 2
}
